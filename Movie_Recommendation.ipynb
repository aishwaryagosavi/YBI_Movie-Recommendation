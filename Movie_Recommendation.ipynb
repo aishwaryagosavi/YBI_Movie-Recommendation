{
  "nbformat": 4,
  "nbformat_minor": 0,
  "metadata": {
    "colab": {
      "provenance": []
    },
    "kernelspec": {
      "name": "python3",
      "display_name": "Python 3"
    },
    "language_info": {
      "name": "python"
    }
  },
  "cells": [
    {
      "cell_type": "markdown",
      "source": [
        "**Objective:**\n",
        "\n",
        "\n",
        "The objective of this movie recommendation project is to provide personalized and accurate movie suggestions to enhance user satisfaction, increase engagement, and improve user retention on the movie-watching platform, while optimizing resource utilization."
      ],
      "metadata": {
        "id": "ABu1MZ7g6-vm"
      }
    },
    {
      "cell_type": "markdown",
      "source": [
        "### Import Libararies"
      ],
      "metadata": {
        "id": "STNbarMT7n3k"
      }
    },
    {
      "cell_type": "code",
      "source": [
        "import pandas as pd\n",
        "import numpy as np"
      ],
      "metadata": {
        "id": "hdUjsal-7ybM"
      },
      "execution_count": 4,
      "outputs": []
    },
    {
      "cell_type": "markdown",
      "source": [
        "### Import Data"
      ],
      "metadata": {
        "id": "QyOOZiLk724n"
      }
    },
    {
      "cell_type": "code",
      "source": [
        "df=pd.read_csv(r'https://raw.githubusercontent.com/YBI-Foundation/Dataset/main/Movies%20Recommendation.csv')\n"
      ],
      "metadata": {
        "id": "9BA0LpRe76dt"
      },
      "execution_count": 5,
      "outputs": []
    },
    {
      "cell_type": "code",
      "source": [
        "df.head()\n"
      ],
      "metadata": {
        "colab": {
          "base_uri": "https://localhost:8080/",
          "height": 716
        },
        "id": "-pBqfWGp8B9_",
        "outputId": "a25dfc6c-2d02-4cc6-d3a3-e18f5a349f82"
      },
      "execution_count": 6,
      "outputs": [
        {
          "output_type": "execute_result",
          "data": {
            "text/plain": [
              "   Movie_ID      Movie_Title                       Movie_Genre Movie_Language  \\\n",
              "0         1       Four Rooms                      Crime Comedy             en   \n",
              "1         2        Star Wars  Adventure Action Science Fiction             en   \n",
              "2         3     Finding Nemo                  Animation Family             en   \n",
              "3         4     Forrest Gump              Comedy Drama Romance             en   \n",
              "4         5  American Beauty                             Drama             en   \n",
              "\n",
              "   Movie_Budget  Movie_Popularity Movie_Release_Date  Movie_Revenue  \\\n",
              "0       4000000         22.876230         09-12-1995        4300000   \n",
              "1      11000000        126.393695         25-05-1977      775398007   \n",
              "2      94000000         85.688789         30-05-2003      940335536   \n",
              "3      55000000        138.133331         06-07-1994      677945399   \n",
              "4      15000000         80.878605         15-09-1999      356296601   \n",
              "\n",
              "   Movie_Runtime  Movie_Vote  ...  \\\n",
              "0           98.0         6.5  ...   \n",
              "1          121.0         8.1  ...   \n",
              "2          100.0         7.6  ...   \n",
              "3          142.0         8.2  ...   \n",
              "4          122.0         7.9  ...   \n",
              "\n",
              "                                      Movie_Homepage  \\\n",
              "0                                                NaN   \n",
              "1  http://www.starwars.com/films/star-wars-episod...   \n",
              "2              http://movies.disney.com/finding-nemo   \n",
              "3                                                NaN   \n",
              "4                      http://www.dreamworks.com/ab/   \n",
              "\n",
              "                                      Movie_Keywords  \\\n",
              "0          hotel new year's eve witch bet hotel room   \n",
              "1        android galaxy hermit death star lightsaber   \n",
              "2  father son relationship harbor underwater fish...   \n",
              "3  vietnam veteran hippie mentally disabled runni...   \n",
              "4  male nudity female nudity adultery midlife cri...   \n",
              "\n",
              "                                      Movie_Overview  \\\n",
              "0  It's Ted the Bellhop's first night on the job....   \n",
              "1  Princess Leia is captured and held hostage by ...   \n",
              "2  Nemo, an adventurous young clownfish, is unexp...   \n",
              "3  A man with a low IQ has accomplished great thi...   \n",
              "4  Lester Burnham, a depressed suburban father in...   \n",
              "\n",
              "                              Movie_Production_House  \\\n",
              "0  [{\"name\": \"Miramax Films\", \"id\": 14}, {\"name\":...   \n",
              "1  [{\"name\": \"Lucasfilm\", \"id\": 1}, {\"name\": \"Twe...   \n",
              "2     [{\"name\": \"Pixar Animation Studios\", \"id\": 3}]   \n",
              "3          [{\"name\": \"Paramount Pictures\", \"id\": 4}]   \n",
              "4  [{\"name\": \"DreamWorks SKG\", \"id\": 27}, {\"name\"...   \n",
              "\n",
              "                            Movie_Production_Country  \\\n",
              "0  [{\"iso_3166_1\": \"US\", \"name\": \"United States o...   \n",
              "1  [{\"iso_3166_1\": \"US\", \"name\": \"United States o...   \n",
              "2  [{\"iso_3166_1\": \"US\", \"name\": \"United States o...   \n",
              "3  [{\"iso_3166_1\": \"US\", \"name\": \"United States o...   \n",
              "4  [{\"iso_3166_1\": \"US\", \"name\": \"United States o...   \n",
              "\n",
              "                      Movie_Spoken_Language  \\\n",
              "0  [{\"iso_639_1\": \"en\", \"name\": \"English\"}]   \n",
              "1  [{\"iso_639_1\": \"en\", \"name\": \"English\"}]   \n",
              "2  [{\"iso_639_1\": \"en\", \"name\": \"English\"}]   \n",
              "3  [{\"iso_639_1\": \"en\", \"name\": \"English\"}]   \n",
              "4  [{\"iso_639_1\": \"en\", \"name\": \"English\"}]   \n",
              "\n",
              "                                       Movie_Tagline  \\\n",
              "0  Twelve outrageous guests. Four scandalous requ...   \n",
              "1       A long time ago in a galaxy far, far away...   \n",
              "2  There are 3.7 trillion fish in the ocean, they...   \n",
              "3  The world will never be the same, once you've ...   \n",
              "4                                       Look closer.   \n",
              "\n",
              "                                          Movie_Cast  \\\n",
              "0  Tim Roth Antonio Banderas Jennifer Beals Madon...   \n",
              "1  Mark Hamill Harrison Ford Carrie Fisher Peter ...   \n",
              "2  Albert Brooks Ellen DeGeneres Alexander Gould ...   \n",
              "3  Tom Hanks Robin Wright Gary Sinise Mykelti Wil...   \n",
              "4  Kevin Spacey Annette Bening Thora Birch Wes Be...   \n",
              "\n",
              "                                          Movie_Crew   Movie_Director  \n",
              "0  [{'name': 'Allison Anders', 'gender': 1, 'depa...   Allison Anders  \n",
              "1  [{'name': 'George Lucas', 'gender': 2, 'depart...     George Lucas  \n",
              "2  [{'name': 'Andrew Stanton', 'gender': 2, 'depa...   Andrew Stanton  \n",
              "3  [{'name': 'Alan Silvestri', 'gender': 2, 'depa...  Robert Zemeckis  \n",
              "4  [{'name': 'Thomas Newman', 'gender': 2, 'depar...       Sam Mendes  \n",
              "\n",
              "[5 rows x 21 columns]"
            ],
            "text/html": [
              "\n",
              "\n",
              "  <div id=\"df-b24c7924-340d-4512-a2de-59fe195a62a3\">\n",
              "    <div class=\"colab-df-container\">\n",
              "      <div>\n",
              "<style scoped>\n",
              "    .dataframe tbody tr th:only-of-type {\n",
              "        vertical-align: middle;\n",
              "    }\n",
              "\n",
              "    .dataframe tbody tr th {\n",
              "        vertical-align: top;\n",
              "    }\n",
              "\n",
              "    .dataframe thead th {\n",
              "        text-align: right;\n",
              "    }\n",
              "</style>\n",
              "<table border=\"1\" class=\"dataframe\">\n",
              "  <thead>\n",
              "    <tr style=\"text-align: right;\">\n",
              "      <th></th>\n",
              "      <th>Movie_ID</th>\n",
              "      <th>Movie_Title</th>\n",
              "      <th>Movie_Genre</th>\n",
              "      <th>Movie_Language</th>\n",
              "      <th>Movie_Budget</th>\n",
              "      <th>Movie_Popularity</th>\n",
              "      <th>Movie_Release_Date</th>\n",
              "      <th>Movie_Revenue</th>\n",
              "      <th>Movie_Runtime</th>\n",
              "      <th>Movie_Vote</th>\n",
              "      <th>...</th>\n",
              "      <th>Movie_Homepage</th>\n",
              "      <th>Movie_Keywords</th>\n",
              "      <th>Movie_Overview</th>\n",
              "      <th>Movie_Production_House</th>\n",
              "      <th>Movie_Production_Country</th>\n",
              "      <th>Movie_Spoken_Language</th>\n",
              "      <th>Movie_Tagline</th>\n",
              "      <th>Movie_Cast</th>\n",
              "      <th>Movie_Crew</th>\n",
              "      <th>Movie_Director</th>\n",
              "    </tr>\n",
              "  </thead>\n",
              "  <tbody>\n",
              "    <tr>\n",
              "      <th>0</th>\n",
              "      <td>1</td>\n",
              "      <td>Four Rooms</td>\n",
              "      <td>Crime Comedy</td>\n",
              "      <td>en</td>\n",
              "      <td>4000000</td>\n",
              "      <td>22.876230</td>\n",
              "      <td>09-12-1995</td>\n",
              "      <td>4300000</td>\n",
              "      <td>98.0</td>\n",
              "      <td>6.5</td>\n",
              "      <td>...</td>\n",
              "      <td>NaN</td>\n",
              "      <td>hotel new year's eve witch bet hotel room</td>\n",
              "      <td>It's Ted the Bellhop's first night on the job....</td>\n",
              "      <td>[{\"name\": \"Miramax Films\", \"id\": 14}, {\"name\":...</td>\n",
              "      <td>[{\"iso_3166_1\": \"US\", \"name\": \"United States o...</td>\n",
              "      <td>[{\"iso_639_1\": \"en\", \"name\": \"English\"}]</td>\n",
              "      <td>Twelve outrageous guests. Four scandalous requ...</td>\n",
              "      <td>Tim Roth Antonio Banderas Jennifer Beals Madon...</td>\n",
              "      <td>[{'name': 'Allison Anders', 'gender': 1, 'depa...</td>\n",
              "      <td>Allison Anders</td>\n",
              "    </tr>\n",
              "    <tr>\n",
              "      <th>1</th>\n",
              "      <td>2</td>\n",
              "      <td>Star Wars</td>\n",
              "      <td>Adventure Action Science Fiction</td>\n",
              "      <td>en</td>\n",
              "      <td>11000000</td>\n",
              "      <td>126.393695</td>\n",
              "      <td>25-05-1977</td>\n",
              "      <td>775398007</td>\n",
              "      <td>121.0</td>\n",
              "      <td>8.1</td>\n",
              "      <td>...</td>\n",
              "      <td>http://www.starwars.com/films/star-wars-episod...</td>\n",
              "      <td>android galaxy hermit death star lightsaber</td>\n",
              "      <td>Princess Leia is captured and held hostage by ...</td>\n",
              "      <td>[{\"name\": \"Lucasfilm\", \"id\": 1}, {\"name\": \"Twe...</td>\n",
              "      <td>[{\"iso_3166_1\": \"US\", \"name\": \"United States o...</td>\n",
              "      <td>[{\"iso_639_1\": \"en\", \"name\": \"English\"}]</td>\n",
              "      <td>A long time ago in a galaxy far, far away...</td>\n",
              "      <td>Mark Hamill Harrison Ford Carrie Fisher Peter ...</td>\n",
              "      <td>[{'name': 'George Lucas', 'gender': 2, 'depart...</td>\n",
              "      <td>George Lucas</td>\n",
              "    </tr>\n",
              "    <tr>\n",
              "      <th>2</th>\n",
              "      <td>3</td>\n",
              "      <td>Finding Nemo</td>\n",
              "      <td>Animation Family</td>\n",
              "      <td>en</td>\n",
              "      <td>94000000</td>\n",
              "      <td>85.688789</td>\n",
              "      <td>30-05-2003</td>\n",
              "      <td>940335536</td>\n",
              "      <td>100.0</td>\n",
              "      <td>7.6</td>\n",
              "      <td>...</td>\n",
              "      <td>http://movies.disney.com/finding-nemo</td>\n",
              "      <td>father son relationship harbor underwater fish...</td>\n",
              "      <td>Nemo, an adventurous young clownfish, is unexp...</td>\n",
              "      <td>[{\"name\": \"Pixar Animation Studios\", \"id\": 3}]</td>\n",
              "      <td>[{\"iso_3166_1\": \"US\", \"name\": \"United States o...</td>\n",
              "      <td>[{\"iso_639_1\": \"en\", \"name\": \"English\"}]</td>\n",
              "      <td>There are 3.7 trillion fish in the ocean, they...</td>\n",
              "      <td>Albert Brooks Ellen DeGeneres Alexander Gould ...</td>\n",
              "      <td>[{'name': 'Andrew Stanton', 'gender': 2, 'depa...</td>\n",
              "      <td>Andrew Stanton</td>\n",
              "    </tr>\n",
              "    <tr>\n",
              "      <th>3</th>\n",
              "      <td>4</td>\n",
              "      <td>Forrest Gump</td>\n",
              "      <td>Comedy Drama Romance</td>\n",
              "      <td>en</td>\n",
              "      <td>55000000</td>\n",
              "      <td>138.133331</td>\n",
              "      <td>06-07-1994</td>\n",
              "      <td>677945399</td>\n",
              "      <td>142.0</td>\n",
              "      <td>8.2</td>\n",
              "      <td>...</td>\n",
              "      <td>NaN</td>\n",
              "      <td>vietnam veteran hippie mentally disabled runni...</td>\n",
              "      <td>A man with a low IQ has accomplished great thi...</td>\n",
              "      <td>[{\"name\": \"Paramount Pictures\", \"id\": 4}]</td>\n",
              "      <td>[{\"iso_3166_1\": \"US\", \"name\": \"United States o...</td>\n",
              "      <td>[{\"iso_639_1\": \"en\", \"name\": \"English\"}]</td>\n",
              "      <td>The world will never be the same, once you've ...</td>\n",
              "      <td>Tom Hanks Robin Wright Gary Sinise Mykelti Wil...</td>\n",
              "      <td>[{'name': 'Alan Silvestri', 'gender': 2, 'depa...</td>\n",
              "      <td>Robert Zemeckis</td>\n",
              "    </tr>\n",
              "    <tr>\n",
              "      <th>4</th>\n",
              "      <td>5</td>\n",
              "      <td>American Beauty</td>\n",
              "      <td>Drama</td>\n",
              "      <td>en</td>\n",
              "      <td>15000000</td>\n",
              "      <td>80.878605</td>\n",
              "      <td>15-09-1999</td>\n",
              "      <td>356296601</td>\n",
              "      <td>122.0</td>\n",
              "      <td>7.9</td>\n",
              "      <td>...</td>\n",
              "      <td>http://www.dreamworks.com/ab/</td>\n",
              "      <td>male nudity female nudity adultery midlife cri...</td>\n",
              "      <td>Lester Burnham, a depressed suburban father in...</td>\n",
              "      <td>[{\"name\": \"DreamWorks SKG\", \"id\": 27}, {\"name\"...</td>\n",
              "      <td>[{\"iso_3166_1\": \"US\", \"name\": \"United States o...</td>\n",
              "      <td>[{\"iso_639_1\": \"en\", \"name\": \"English\"}]</td>\n",
              "      <td>Look closer.</td>\n",
              "      <td>Kevin Spacey Annette Bening Thora Birch Wes Be...</td>\n",
              "      <td>[{'name': 'Thomas Newman', 'gender': 2, 'depar...</td>\n",
              "      <td>Sam Mendes</td>\n",
              "    </tr>\n",
              "  </tbody>\n",
              "</table>\n",
              "<p>5 rows × 21 columns</p>\n",
              "</div>\n",
              "      <button class=\"colab-df-convert\" onclick=\"convertToInteractive('df-b24c7924-340d-4512-a2de-59fe195a62a3')\"\n",
              "              title=\"Convert this dataframe to an interactive table.\"\n",
              "              style=\"display:none;\">\n",
              "\n",
              "  <svg xmlns=\"http://www.w3.org/2000/svg\" height=\"24px\"viewBox=\"0 0 24 24\"\n",
              "       width=\"24px\">\n",
              "    <path d=\"M0 0h24v24H0V0z\" fill=\"none\"/>\n",
              "    <path d=\"M18.56 5.44l.94 2.06.94-2.06 2.06-.94-2.06-.94-.94-2.06-.94 2.06-2.06.94zm-11 1L8.5 8.5l.94-2.06 2.06-.94-2.06-.94L8.5 2.5l-.94 2.06-2.06.94zm10 10l.94 2.06.94-2.06 2.06-.94-2.06-.94-.94-2.06-.94 2.06-2.06.94z\"/><path d=\"M17.41 7.96l-1.37-1.37c-.4-.4-.92-.59-1.43-.59-.52 0-1.04.2-1.43.59L10.3 9.45l-7.72 7.72c-.78.78-.78 2.05 0 2.83L4 21.41c.39.39.9.59 1.41.59.51 0 1.02-.2 1.41-.59l7.78-7.78 2.81-2.81c.8-.78.8-2.07 0-2.86zM5.41 20L4 18.59l7.72-7.72 1.47 1.35L5.41 20z\"/>\n",
              "  </svg>\n",
              "      </button>\n",
              "\n",
              "\n",
              "\n",
              "    <div id=\"df-f8652143-86ca-42fb-bdb9-a8113e11e9e4\">\n",
              "      <button class=\"colab-df-quickchart\" onclick=\"quickchart('df-f8652143-86ca-42fb-bdb9-a8113e11e9e4')\"\n",
              "              title=\"Suggest charts.\"\n",
              "              style=\"display:none;\">\n",
              "\n",
              "<svg xmlns=\"http://www.w3.org/2000/svg\" height=\"24px\"viewBox=\"0 0 24 24\"\n",
              "     width=\"24px\">\n",
              "    <g>\n",
              "        <path d=\"M19 3H5c-1.1 0-2 .9-2 2v14c0 1.1.9 2 2 2h14c1.1 0 2-.9 2-2V5c0-1.1-.9-2-2-2zM9 17H7v-7h2v7zm4 0h-2V7h2v10zm4 0h-2v-4h2v4z\"/>\n",
              "    </g>\n",
              "</svg>\n",
              "      </button>\n",
              "    </div>\n",
              "\n",
              "<style>\n",
              "  .colab-df-quickchart {\n",
              "    background-color: #E8F0FE;\n",
              "    border: none;\n",
              "    border-radius: 50%;\n",
              "    cursor: pointer;\n",
              "    display: none;\n",
              "    fill: #1967D2;\n",
              "    height: 32px;\n",
              "    padding: 0 0 0 0;\n",
              "    width: 32px;\n",
              "  }\n",
              "\n",
              "  .colab-df-quickchart:hover {\n",
              "    background-color: #E2EBFA;\n",
              "    box-shadow: 0px 1px 2px rgba(60, 64, 67, 0.3), 0px 1px 3px 1px rgba(60, 64, 67, 0.15);\n",
              "    fill: #174EA6;\n",
              "  }\n",
              "\n",
              "  [theme=dark] .colab-df-quickchart {\n",
              "    background-color: #3B4455;\n",
              "    fill: #D2E3FC;\n",
              "  }\n",
              "\n",
              "  [theme=dark] .colab-df-quickchart:hover {\n",
              "    background-color: #434B5C;\n",
              "    box-shadow: 0px 1px 3px 1px rgba(0, 0, 0, 0.15);\n",
              "    filter: drop-shadow(0px 1px 2px rgba(0, 0, 0, 0.3));\n",
              "    fill: #FFFFFF;\n",
              "  }\n",
              "</style>\n",
              "\n",
              "    <script>\n",
              "      async function quickchart(key) {\n",
              "        const containerElement = document.querySelector('#' + key);\n",
              "        const charts = await google.colab.kernel.invokeFunction(\n",
              "            'suggestCharts', [key], {});\n",
              "      }\n",
              "    </script>\n",
              "\n",
              "      <script>\n",
              "\n",
              "function displayQuickchartButton(domScope) {\n",
              "  let quickchartButtonEl =\n",
              "    domScope.querySelector('#df-f8652143-86ca-42fb-bdb9-a8113e11e9e4 button.colab-df-quickchart');\n",
              "  quickchartButtonEl.style.display =\n",
              "    google.colab.kernel.accessAllowed ? 'block' : 'none';\n",
              "}\n",
              "\n",
              "        displayQuickchartButton(document);\n",
              "      </script>\n",
              "      <style>\n",
              "    .colab-df-container {\n",
              "      display:flex;\n",
              "      flex-wrap:wrap;\n",
              "      gap: 12px;\n",
              "    }\n",
              "\n",
              "    .colab-df-convert {\n",
              "      background-color: #E8F0FE;\n",
              "      border: none;\n",
              "      border-radius: 50%;\n",
              "      cursor: pointer;\n",
              "      display: none;\n",
              "      fill: #1967D2;\n",
              "      height: 32px;\n",
              "      padding: 0 0 0 0;\n",
              "      width: 32px;\n",
              "    }\n",
              "\n",
              "    .colab-df-convert:hover {\n",
              "      background-color: #E2EBFA;\n",
              "      box-shadow: 0px 1px 2px rgba(60, 64, 67, 0.3), 0px 1px 3px 1px rgba(60, 64, 67, 0.15);\n",
              "      fill: #174EA6;\n",
              "    }\n",
              "\n",
              "    [theme=dark] .colab-df-convert {\n",
              "      background-color: #3B4455;\n",
              "      fill: #D2E3FC;\n",
              "    }\n",
              "\n",
              "    [theme=dark] .colab-df-convert:hover {\n",
              "      background-color: #434B5C;\n",
              "      box-shadow: 0px 1px 3px 1px rgba(0, 0, 0, 0.15);\n",
              "      filter: drop-shadow(0px 1px 2px rgba(0, 0, 0, 0.3));\n",
              "      fill: #FFFFFF;\n",
              "    }\n",
              "  </style>\n",
              "\n",
              "      <script>\n",
              "        const buttonEl =\n",
              "          document.querySelector('#df-b24c7924-340d-4512-a2de-59fe195a62a3 button.colab-df-convert');\n",
              "        buttonEl.style.display =\n",
              "          google.colab.kernel.accessAllowed ? 'block' : 'none';\n",
              "\n",
              "        async function convertToInteractive(key) {\n",
              "          const element = document.querySelector('#df-b24c7924-340d-4512-a2de-59fe195a62a3');\n",
              "          const dataTable =\n",
              "            await google.colab.kernel.invokeFunction('convertToInteractive',\n",
              "                                                     [key], {});\n",
              "          if (!dataTable) return;\n",
              "\n",
              "          const docLinkHtml = 'Like what you see? Visit the ' +\n",
              "            '<a target=\"_blank\" href=https://colab.research.google.com/notebooks/data_table.ipynb>data table notebook</a>'\n",
              "            + ' to learn more about interactive tables.';\n",
              "          element.innerHTML = '';\n",
              "          dataTable['output_type'] = 'display_data';\n",
              "          await google.colab.output.renderOutput(dataTable, element);\n",
              "          const docLink = document.createElement('div');\n",
              "          docLink.innerHTML = docLinkHtml;\n",
              "          element.appendChild(docLink);\n",
              "        }\n",
              "      </script>\n",
              "    </div>\n",
              "  </div>\n"
            ]
          },
          "metadata": {},
          "execution_count": 6
        }
      ]
    },
    {
      "cell_type": "code",
      "source": [
        "df.info()\n"
      ],
      "metadata": {
        "colab": {
          "base_uri": "https://localhost:8080/"
        },
        "id": "5enQtOMe8GJB",
        "outputId": "91418334-78c5-46d3-8b85-a44ba3e7dc04"
      },
      "execution_count": 7,
      "outputs": [
        {
          "output_type": "stream",
          "name": "stdout",
          "text": [
            "<class 'pandas.core.frame.DataFrame'>\n",
            "RangeIndex: 4760 entries, 0 to 4759\n",
            "Data columns (total 21 columns):\n",
            " #   Column                    Non-Null Count  Dtype  \n",
            "---  ------                    --------------  -----  \n",
            " 0   Movie_ID                  4760 non-null   int64  \n",
            " 1   Movie_Title               4760 non-null   object \n",
            " 2   Movie_Genre               4760 non-null   object \n",
            " 3   Movie_Language            4760 non-null   object \n",
            " 4   Movie_Budget              4760 non-null   int64  \n",
            " 5   Movie_Popularity          4760 non-null   float64\n",
            " 6   Movie_Release_Date        4760 non-null   object \n",
            " 7   Movie_Revenue             4760 non-null   int64  \n",
            " 8   Movie_Runtime             4758 non-null   float64\n",
            " 9   Movie_Vote                4760 non-null   float64\n",
            " 10  Movie_Vote_Count          4760 non-null   int64  \n",
            " 11  Movie_Homepage            1699 non-null   object \n",
            " 12  Movie_Keywords            4373 non-null   object \n",
            " 13  Movie_Overview            4757 non-null   object \n",
            " 14  Movie_Production_House    4760 non-null   object \n",
            " 15  Movie_Production_Country  4760 non-null   object \n",
            " 16  Movie_Spoken_Language     4760 non-null   object \n",
            " 17  Movie_Tagline             3942 non-null   object \n",
            " 18  Movie_Cast                4733 non-null   object \n",
            " 19  Movie_Crew                4760 non-null   object \n",
            " 20  Movie_Director            4738 non-null   object \n",
            "dtypes: float64(3), int64(4), object(14)\n",
            "memory usage: 781.1+ KB\n"
          ]
        }
      ]
    },
    {
      "cell_type": "code",
      "source": [
        "df.shape\n"
      ],
      "metadata": {
        "colab": {
          "base_uri": "https://localhost:8080/"
        },
        "id": "HeGx1Sac8J7A",
        "outputId": "6df02538-5fd5-4981-9339-02bb901d52f5"
      },
      "execution_count": 8,
      "outputs": [
        {
          "output_type": "execute_result",
          "data": {
            "text/plain": [
              "(4760, 21)"
            ]
          },
          "metadata": {},
          "execution_count": 8
        }
      ]
    },
    {
      "cell_type": "code",
      "source": [
        "df.columns\n"
      ],
      "metadata": {
        "colab": {
          "base_uri": "https://localhost:8080/"
        },
        "id": "s1g8mnLI8MQd",
        "outputId": "3a5e216b-f74d-480e-bf2a-56999ea230ef"
      },
      "execution_count": 9,
      "outputs": [
        {
          "output_type": "execute_result",
          "data": {
            "text/plain": [
              "Index(['Movie_ID', 'Movie_Title', 'Movie_Genre', 'Movie_Language',\n",
              "       'Movie_Budget', 'Movie_Popularity', 'Movie_Release_Date',\n",
              "       'Movie_Revenue', 'Movie_Runtime', 'Movie_Vote', 'Movie_Vote_Count',\n",
              "       'Movie_Homepage', 'Movie_Keywords', 'Movie_Overview',\n",
              "       'Movie_Production_House', 'Movie_Production_Country',\n",
              "       'Movie_Spoken_Language', 'Movie_Tagline', 'Movie_Cast', 'Movie_Crew',\n",
              "       'Movie_Director'],\n",
              "      dtype='object')"
            ]
          },
          "metadata": {},
          "execution_count": 9
        }
      ]
    },
    {
      "cell_type": "markdown",
      "source": [
        "### Get Feature Selection"
      ],
      "metadata": {
        "id": "T1K2-hTY8Rrg"
      }
    },
    {
      "cell_type": "code",
      "source": [
        "df_features=df[['Movie_Genre','Movie_Keywords','Movie_Tagline','Movie_Cast','Movie_Director']].fillna('')\n"
      ],
      "metadata": {
        "id": "T3Af_DY-8YbY"
      },
      "execution_count": 10,
      "outputs": []
    },
    {
      "cell_type": "code",
      "source": [
        "df_features.shape\n"
      ],
      "metadata": {
        "colab": {
          "base_uri": "https://localhost:8080/"
        },
        "id": "DyNJ7aSX8c_x",
        "outputId": "ce4c1e59-e654-4925-db10-5a9afdd7f2b8"
      },
      "execution_count": 11,
      "outputs": [
        {
          "output_type": "execute_result",
          "data": {
            "text/plain": [
              "(4760, 5)"
            ]
          },
          "metadata": {},
          "execution_count": 11
        }
      ]
    },
    {
      "cell_type": "code",
      "source": [
        "df_features\n"
      ],
      "metadata": {
        "colab": {
          "base_uri": "https://localhost:8080/",
          "height": 589
        },
        "id": "V2RIiRSM8fBL",
        "outputId": "e4397b75-5e60-4d12-8be8-ec101bb31d19"
      },
      "execution_count": 12,
      "outputs": [
        {
          "output_type": "execute_result",
          "data": {
            "text/plain": [
              "                           Movie_Genre  \\\n",
              "0                         Crime Comedy   \n",
              "1     Adventure Action Science Fiction   \n",
              "2                     Animation Family   \n",
              "3                 Comedy Drama Romance   \n",
              "4                                Drama   \n",
              "...                                ...   \n",
              "4755                            Horror   \n",
              "4756               Comedy Family Drama   \n",
              "4757                    Thriller Drama   \n",
              "4758                            Family   \n",
              "4759                       Documentary   \n",
              "\n",
              "                                         Movie_Keywords  \\\n",
              "0             hotel new year's eve witch bet hotel room   \n",
              "1           android galaxy hermit death star lightsaber   \n",
              "2     father son relationship harbor underwater fish...   \n",
              "3     vietnam veteran hippie mentally disabled runni...   \n",
              "4     male nudity female nudity adultery midlife cri...   \n",
              "...                                                 ...   \n",
              "4755                                                      \n",
              "4756                                                      \n",
              "4757                     christian film sex trafficking   \n",
              "4758                                                      \n",
              "4759  music actors legendary perfomer classic hollyw...   \n",
              "\n",
              "                                          Movie_Tagline  \\\n",
              "0     Twelve outrageous guests. Four scandalous requ...   \n",
              "1          A long time ago in a galaxy far, far away...   \n",
              "2     There are 3.7 trillion fish in the ocean, they...   \n",
              "3     The world will never be the same, once you've ...   \n",
              "4                                          Look closer.   \n",
              "...                                                 ...   \n",
              "4755                The hot spot where Satan's waitin'.   \n",
              "4756           It’s better to stand out than to fit in.   \n",
              "4757           She never knew it could happen to her...   \n",
              "4758                                                      \n",
              "4759                                                      \n",
              "\n",
              "                                             Movie_Cast     Movie_Director  \n",
              "0     Tim Roth Antonio Banderas Jennifer Beals Madon...     Allison Anders  \n",
              "1     Mark Hamill Harrison Ford Carrie Fisher Peter ...       George Lucas  \n",
              "2     Albert Brooks Ellen DeGeneres Alexander Gould ...     Andrew Stanton  \n",
              "3     Tom Hanks Robin Wright Gary Sinise Mykelti Wil...    Robert Zemeckis  \n",
              "4     Kevin Spacey Annette Bening Thora Birch Wes Be...         Sam Mendes  \n",
              "...                                                 ...                ...  \n",
              "4755  Lisa Hart Carroll Michael Des Barres Paul Drak...         Pece Dingo  \n",
              "4756  Roni Akurati Brighton Sharbino Jason Lee Anjul...       Frank Lotito  \n",
              "4757  Nicole Smolen Kim Baldwin Ariana Stephens Brys...       Jaco Booyens  \n",
              "4758                                                                        \n",
              "4759                                    Tony Oppedisano  Simon Napier-Bell  \n",
              "\n",
              "[4760 rows x 5 columns]"
            ],
            "text/html": [
              "\n",
              "\n",
              "  <div id=\"df-d3f34029-d7cc-4d91-8692-fbd389d5f729\">\n",
              "    <div class=\"colab-df-container\">\n",
              "      <div>\n",
              "<style scoped>\n",
              "    .dataframe tbody tr th:only-of-type {\n",
              "        vertical-align: middle;\n",
              "    }\n",
              "\n",
              "    .dataframe tbody tr th {\n",
              "        vertical-align: top;\n",
              "    }\n",
              "\n",
              "    .dataframe thead th {\n",
              "        text-align: right;\n",
              "    }\n",
              "</style>\n",
              "<table border=\"1\" class=\"dataframe\">\n",
              "  <thead>\n",
              "    <tr style=\"text-align: right;\">\n",
              "      <th></th>\n",
              "      <th>Movie_Genre</th>\n",
              "      <th>Movie_Keywords</th>\n",
              "      <th>Movie_Tagline</th>\n",
              "      <th>Movie_Cast</th>\n",
              "      <th>Movie_Director</th>\n",
              "    </tr>\n",
              "  </thead>\n",
              "  <tbody>\n",
              "    <tr>\n",
              "      <th>0</th>\n",
              "      <td>Crime Comedy</td>\n",
              "      <td>hotel new year's eve witch bet hotel room</td>\n",
              "      <td>Twelve outrageous guests. Four scandalous requ...</td>\n",
              "      <td>Tim Roth Antonio Banderas Jennifer Beals Madon...</td>\n",
              "      <td>Allison Anders</td>\n",
              "    </tr>\n",
              "    <tr>\n",
              "      <th>1</th>\n",
              "      <td>Adventure Action Science Fiction</td>\n",
              "      <td>android galaxy hermit death star lightsaber</td>\n",
              "      <td>A long time ago in a galaxy far, far away...</td>\n",
              "      <td>Mark Hamill Harrison Ford Carrie Fisher Peter ...</td>\n",
              "      <td>George Lucas</td>\n",
              "    </tr>\n",
              "    <tr>\n",
              "      <th>2</th>\n",
              "      <td>Animation Family</td>\n",
              "      <td>father son relationship harbor underwater fish...</td>\n",
              "      <td>There are 3.7 trillion fish in the ocean, they...</td>\n",
              "      <td>Albert Brooks Ellen DeGeneres Alexander Gould ...</td>\n",
              "      <td>Andrew Stanton</td>\n",
              "    </tr>\n",
              "    <tr>\n",
              "      <th>3</th>\n",
              "      <td>Comedy Drama Romance</td>\n",
              "      <td>vietnam veteran hippie mentally disabled runni...</td>\n",
              "      <td>The world will never be the same, once you've ...</td>\n",
              "      <td>Tom Hanks Robin Wright Gary Sinise Mykelti Wil...</td>\n",
              "      <td>Robert Zemeckis</td>\n",
              "    </tr>\n",
              "    <tr>\n",
              "      <th>4</th>\n",
              "      <td>Drama</td>\n",
              "      <td>male nudity female nudity adultery midlife cri...</td>\n",
              "      <td>Look closer.</td>\n",
              "      <td>Kevin Spacey Annette Bening Thora Birch Wes Be...</td>\n",
              "      <td>Sam Mendes</td>\n",
              "    </tr>\n",
              "    <tr>\n",
              "      <th>...</th>\n",
              "      <td>...</td>\n",
              "      <td>...</td>\n",
              "      <td>...</td>\n",
              "      <td>...</td>\n",
              "      <td>...</td>\n",
              "    </tr>\n",
              "    <tr>\n",
              "      <th>4755</th>\n",
              "      <td>Horror</td>\n",
              "      <td></td>\n",
              "      <td>The hot spot where Satan's waitin'.</td>\n",
              "      <td>Lisa Hart Carroll Michael Des Barres Paul Drak...</td>\n",
              "      <td>Pece Dingo</td>\n",
              "    </tr>\n",
              "    <tr>\n",
              "      <th>4756</th>\n",
              "      <td>Comedy Family Drama</td>\n",
              "      <td></td>\n",
              "      <td>It’s better to stand out than to fit in.</td>\n",
              "      <td>Roni Akurati Brighton Sharbino Jason Lee Anjul...</td>\n",
              "      <td>Frank Lotito</td>\n",
              "    </tr>\n",
              "    <tr>\n",
              "      <th>4757</th>\n",
              "      <td>Thriller Drama</td>\n",
              "      <td>christian film sex trafficking</td>\n",
              "      <td>She never knew it could happen to her...</td>\n",
              "      <td>Nicole Smolen Kim Baldwin Ariana Stephens Brys...</td>\n",
              "      <td>Jaco Booyens</td>\n",
              "    </tr>\n",
              "    <tr>\n",
              "      <th>4758</th>\n",
              "      <td>Family</td>\n",
              "      <td></td>\n",
              "      <td></td>\n",
              "      <td></td>\n",
              "      <td></td>\n",
              "    </tr>\n",
              "    <tr>\n",
              "      <th>4759</th>\n",
              "      <td>Documentary</td>\n",
              "      <td>music actors legendary perfomer classic hollyw...</td>\n",
              "      <td></td>\n",
              "      <td>Tony Oppedisano</td>\n",
              "      <td>Simon Napier-Bell</td>\n",
              "    </tr>\n",
              "  </tbody>\n",
              "</table>\n",
              "<p>4760 rows × 5 columns</p>\n",
              "</div>\n",
              "      <button class=\"colab-df-convert\" onclick=\"convertToInteractive('df-d3f34029-d7cc-4d91-8692-fbd389d5f729')\"\n",
              "              title=\"Convert this dataframe to an interactive table.\"\n",
              "              style=\"display:none;\">\n",
              "\n",
              "  <svg xmlns=\"http://www.w3.org/2000/svg\" height=\"24px\"viewBox=\"0 0 24 24\"\n",
              "       width=\"24px\">\n",
              "    <path d=\"M0 0h24v24H0V0z\" fill=\"none\"/>\n",
              "    <path d=\"M18.56 5.44l.94 2.06.94-2.06 2.06-.94-2.06-.94-.94-2.06-.94 2.06-2.06.94zm-11 1L8.5 8.5l.94-2.06 2.06-.94-2.06-.94L8.5 2.5l-.94 2.06-2.06.94zm10 10l.94 2.06.94-2.06 2.06-.94-2.06-.94-.94-2.06-.94 2.06-2.06.94z\"/><path d=\"M17.41 7.96l-1.37-1.37c-.4-.4-.92-.59-1.43-.59-.52 0-1.04.2-1.43.59L10.3 9.45l-7.72 7.72c-.78.78-.78 2.05 0 2.83L4 21.41c.39.39.9.59 1.41.59.51 0 1.02-.2 1.41-.59l7.78-7.78 2.81-2.81c.8-.78.8-2.07 0-2.86zM5.41 20L4 18.59l7.72-7.72 1.47 1.35L5.41 20z\"/>\n",
              "  </svg>\n",
              "      </button>\n",
              "\n",
              "\n",
              "\n",
              "    <div id=\"df-7e61113c-67fb-444c-b5d7-bc1757b36e16\">\n",
              "      <button class=\"colab-df-quickchart\" onclick=\"quickchart('df-7e61113c-67fb-444c-b5d7-bc1757b36e16')\"\n",
              "              title=\"Suggest charts.\"\n",
              "              style=\"display:none;\">\n",
              "\n",
              "<svg xmlns=\"http://www.w3.org/2000/svg\" height=\"24px\"viewBox=\"0 0 24 24\"\n",
              "     width=\"24px\">\n",
              "    <g>\n",
              "        <path d=\"M19 3H5c-1.1 0-2 .9-2 2v14c0 1.1.9 2 2 2h14c1.1 0 2-.9 2-2V5c0-1.1-.9-2-2-2zM9 17H7v-7h2v7zm4 0h-2V7h2v10zm4 0h-2v-4h2v4z\"/>\n",
              "    </g>\n",
              "</svg>\n",
              "      </button>\n",
              "    </div>\n",
              "\n",
              "<style>\n",
              "  .colab-df-quickchart {\n",
              "    background-color: #E8F0FE;\n",
              "    border: none;\n",
              "    border-radius: 50%;\n",
              "    cursor: pointer;\n",
              "    display: none;\n",
              "    fill: #1967D2;\n",
              "    height: 32px;\n",
              "    padding: 0 0 0 0;\n",
              "    width: 32px;\n",
              "  }\n",
              "\n",
              "  .colab-df-quickchart:hover {\n",
              "    background-color: #E2EBFA;\n",
              "    box-shadow: 0px 1px 2px rgba(60, 64, 67, 0.3), 0px 1px 3px 1px rgba(60, 64, 67, 0.15);\n",
              "    fill: #174EA6;\n",
              "  }\n",
              "\n",
              "  [theme=dark] .colab-df-quickchart {\n",
              "    background-color: #3B4455;\n",
              "    fill: #D2E3FC;\n",
              "  }\n",
              "\n",
              "  [theme=dark] .colab-df-quickchart:hover {\n",
              "    background-color: #434B5C;\n",
              "    box-shadow: 0px 1px 3px 1px rgba(0, 0, 0, 0.15);\n",
              "    filter: drop-shadow(0px 1px 2px rgba(0, 0, 0, 0.3));\n",
              "    fill: #FFFFFF;\n",
              "  }\n",
              "</style>\n",
              "\n",
              "    <script>\n",
              "      async function quickchart(key) {\n",
              "        const containerElement = document.querySelector('#' + key);\n",
              "        const charts = await google.colab.kernel.invokeFunction(\n",
              "            'suggestCharts', [key], {});\n",
              "      }\n",
              "    </script>\n",
              "\n",
              "      <script>\n",
              "\n",
              "function displayQuickchartButton(domScope) {\n",
              "  let quickchartButtonEl =\n",
              "    domScope.querySelector('#df-7e61113c-67fb-444c-b5d7-bc1757b36e16 button.colab-df-quickchart');\n",
              "  quickchartButtonEl.style.display =\n",
              "    google.colab.kernel.accessAllowed ? 'block' : 'none';\n",
              "}\n",
              "\n",
              "        displayQuickchartButton(document);\n",
              "      </script>\n",
              "      <style>\n",
              "    .colab-df-container {\n",
              "      display:flex;\n",
              "      flex-wrap:wrap;\n",
              "      gap: 12px;\n",
              "    }\n",
              "\n",
              "    .colab-df-convert {\n",
              "      background-color: #E8F0FE;\n",
              "      border: none;\n",
              "      border-radius: 50%;\n",
              "      cursor: pointer;\n",
              "      display: none;\n",
              "      fill: #1967D2;\n",
              "      height: 32px;\n",
              "      padding: 0 0 0 0;\n",
              "      width: 32px;\n",
              "    }\n",
              "\n",
              "    .colab-df-convert:hover {\n",
              "      background-color: #E2EBFA;\n",
              "      box-shadow: 0px 1px 2px rgba(60, 64, 67, 0.3), 0px 1px 3px 1px rgba(60, 64, 67, 0.15);\n",
              "      fill: #174EA6;\n",
              "    }\n",
              "\n",
              "    [theme=dark] .colab-df-convert {\n",
              "      background-color: #3B4455;\n",
              "      fill: #D2E3FC;\n",
              "    }\n",
              "\n",
              "    [theme=dark] .colab-df-convert:hover {\n",
              "      background-color: #434B5C;\n",
              "      box-shadow: 0px 1px 3px 1px rgba(0, 0, 0, 0.15);\n",
              "      filter: drop-shadow(0px 1px 2px rgba(0, 0, 0, 0.3));\n",
              "      fill: #FFFFFF;\n",
              "    }\n",
              "  </style>\n",
              "\n",
              "      <script>\n",
              "        const buttonEl =\n",
              "          document.querySelector('#df-d3f34029-d7cc-4d91-8692-fbd389d5f729 button.colab-df-convert');\n",
              "        buttonEl.style.display =\n",
              "          google.colab.kernel.accessAllowed ? 'block' : 'none';\n",
              "\n",
              "        async function convertToInteractive(key) {\n",
              "          const element = document.querySelector('#df-d3f34029-d7cc-4d91-8692-fbd389d5f729');\n",
              "          const dataTable =\n",
              "            await google.colab.kernel.invokeFunction('convertToInteractive',\n",
              "                                                     [key], {});\n",
              "          if (!dataTable) return;\n",
              "\n",
              "          const docLinkHtml = 'Like what you see? Visit the ' +\n",
              "            '<a target=\"_blank\" href=https://colab.research.google.com/notebooks/data_table.ipynb>data table notebook</a>'\n",
              "            + ' to learn more about interactive tables.';\n",
              "          element.innerHTML = '';\n",
              "          dataTable['output_type'] = 'display_data';\n",
              "          await google.colab.output.renderOutput(dataTable, element);\n",
              "          const docLink = document.createElement('div');\n",
              "          docLink.innerHTML = docLinkHtml;\n",
              "          element.appendChild(docLink);\n",
              "        }\n",
              "      </script>\n",
              "    </div>\n",
              "  </div>\n"
            ]
          },
          "metadata": {},
          "execution_count": 12
        }
      ]
    },
    {
      "cell_type": "code",
      "source": [
        "x=df_features['Movie_Genre']+' '+ df_features['Movie_Keywords']+' '+ df_features['Movie_Tagline']+ ' ' +df_features['Movie_Cast']+' '+df_features['Movie_Director']\n"
      ],
      "metadata": {
        "id": "f_ahpPsD8iHX"
      },
      "execution_count": 13,
      "outputs": []
    },
    {
      "cell_type": "code",
      "source": [
        "x\n"
      ],
      "metadata": {
        "colab": {
          "base_uri": "https://localhost:8080/"
        },
        "id": "g6AWciGK8kol",
        "outputId": "94302970-00a4-41c9-958c-6f38b85996d5"
      },
      "execution_count": 14,
      "outputs": [
        {
          "output_type": "execute_result",
          "data": {
            "text/plain": [
              "0       Crime Comedy hotel new year's eve witch bet ho...\n",
              "1       Adventure Action Science Fiction android galax...\n",
              "2       Animation Family father son relationship harbo...\n",
              "3       Comedy Drama Romance vietnam veteran hippie me...\n",
              "4       Drama male nudity female nudity adultery midli...\n",
              "                              ...                        \n",
              "4755    Horror  The hot spot where Satan's waitin'. Li...\n",
              "4756    Comedy Family Drama  It’s better to stand out ...\n",
              "4757    Thriller Drama christian film sex trafficking ...\n",
              "4758                                           Family    \n",
              "4759    Documentary music actors legendary perfomer cl...\n",
              "Length: 4760, dtype: object"
            ]
          },
          "metadata": {},
          "execution_count": 14
        }
      ]
    },
    {
      "cell_type": "code",
      "source": [
        "x.shape\n"
      ],
      "metadata": {
        "colab": {
          "base_uri": "https://localhost:8080/"
        },
        "id": "duK6tkkb8n2l",
        "outputId": "15814e0d-a742-47e2-cba5-0650c17e560e"
      },
      "execution_count": 15,
      "outputs": [
        {
          "output_type": "execute_result",
          "data": {
            "text/plain": [
              "(4760,)"
            ]
          },
          "metadata": {},
          "execution_count": 15
        }
      ]
    },
    {
      "cell_type": "markdown",
      "source": [
        "### Get Feature Text Conversion to Tokens\n"
      ],
      "metadata": {
        "id": "LEfhRhC18r1g"
      }
    },
    {
      "cell_type": "code",
      "source": [
        "from sklearn.feature_extraction.text import TfidfVectorizer\n"
      ],
      "metadata": {
        "id": "31HALxiQ8w2V"
      },
      "execution_count": 16,
      "outputs": []
    },
    {
      "cell_type": "code",
      "source": [
        "tfidf=TfidfVectorizer()\n"
      ],
      "metadata": {
        "id": "LHP6RKie804A"
      },
      "execution_count": 17,
      "outputs": []
    },
    {
      "cell_type": "code",
      "source": [
        "x=tfidf.fit_transform(x)\n"
      ],
      "metadata": {
        "id": "ZcYKGXtd82_6"
      },
      "execution_count": 18,
      "outputs": []
    },
    {
      "cell_type": "code",
      "source": [
        "x.shape\n"
      ],
      "metadata": {
        "colab": {
          "base_uri": "https://localhost:8080/"
        },
        "id": "B-DB_TJl85On",
        "outputId": "a237aad0-cab6-4fcf-9c09-8cd3438a50e8"
      },
      "execution_count": 19,
      "outputs": [
        {
          "output_type": "execute_result",
          "data": {
            "text/plain": [
              "(4760, 17258)"
            ]
          },
          "metadata": {},
          "execution_count": 19
        }
      ]
    },
    {
      "cell_type": "code",
      "source": [
        "print(x)\n"
      ],
      "metadata": {
        "colab": {
          "base_uri": "https://localhost:8080/"
        },
        "id": "lV034TX687bq",
        "outputId": "d21cb04d-137e-490a-edf8-3a5232acb994"
      },
      "execution_count": 20,
      "outputs": [
        {
          "output_type": "stream",
          "name": "stdout",
          "text": [
            "  (0, 617)\t0.1633382144407513\n",
            "  (0, 492)\t0.1432591540388685\n",
            "  (0, 15413)\t0.1465525095337543\n",
            "  (0, 9675)\t0.14226057295252661\n",
            "  (0, 9465)\t0.1659841367820977\n",
            "  (0, 1390)\t0.16898383612799558\n",
            "  (0, 7825)\t0.09799561597509843\n",
            "  (0, 1214)\t0.13865857545144072\n",
            "  (0, 729)\t0.13415063359531618\n",
            "  (0, 13093)\t0.1432591540388685\n",
            "  (0, 15355)\t0.10477815972666779\n",
            "  (0, 9048)\t0.0866842116160778\n",
            "  (0, 11161)\t0.06250380151644369\n",
            "  (0, 16773)\t0.17654247479915475\n",
            "  (0, 5612)\t0.08603537588547631\n",
            "  (0, 16735)\t0.10690083751525419\n",
            "  (0, 7904)\t0.13348000542112332\n",
            "  (0, 15219)\t0.09800472886453934\n",
            "  (0, 11242)\t0.07277788238484746\n",
            "  (0, 3878)\t0.11998399582562203\n",
            "  (0, 5499)\t0.11454057510303811\n",
            "  (0, 7071)\t0.19822417598406614\n",
            "  (0, 7454)\t0.14745635785412262\n",
            "  (0, 1495)\t0.19712637387361423\n",
            "  (0, 9206)\t0.15186283580984414\n",
            "  :\t:\n",
            "  (4757, 5455)\t0.12491480594769522\n",
            "  (4757, 2967)\t0.16273475835631626\n",
            "  (4757, 8464)\t0.23522565554066333\n",
            "  (4757, 6938)\t0.17088173678136628\n",
            "  (4757, 8379)\t0.17480603856721913\n",
            "  (4757, 15303)\t0.07654356007668191\n",
            "  (4757, 15384)\t0.09754322497537371\n",
            "  (4757, 7649)\t0.11479421494340192\n",
            "  (4757, 10896)\t0.14546473055066447\n",
            "  (4757, 4494)\t0.05675298448720501\n",
            "  (4758, 5238)\t1.0\n",
            "  (4759, 11264)\t0.33947721804318337\n",
            "  (4759, 11708)\t0.33947721804318337\n",
            "  (4759, 205)\t0.3237911628497312\n",
            "  (4759, 8902)\t0.3040290704566037\n",
            "  (4759, 14062)\t0.3237911628497312\n",
            "  (4759, 3058)\t0.2812896191863103\n",
            "  (4759, 7130)\t0.26419662449963793\n",
            "  (4759, 10761)\t0.3126617295732147\n",
            "  (4759, 4358)\t0.18306542312175342\n",
            "  (4759, 14051)\t0.20084315377640435\n",
            "  (4759, 5690)\t0.19534291014627303\n",
            "  (4759, 15431)\t0.19628653185946862\n",
            "  (4759, 1490)\t0.21197258705292082\n",
            "  (4759, 10666)\t0.15888268987343043\n"
          ]
        }
      ]
    },
    {
      "cell_type": "markdown",
      "source": [
        "Get Similarity Score using Cosine Similarity\n"
      ],
      "metadata": {
        "id": "adM-ysBq8_2y"
      }
    },
    {
      "cell_type": "code",
      "source": [
        "from sklearn.metrics.pairwise import cosine_similarity\n"
      ],
      "metadata": {
        "id": "W__O2AUM9DXO"
      },
      "execution_count": 21,
      "outputs": []
    },
    {
      "cell_type": "code",
      "source": [
        "Similarity_Score=cosine_similarity(x)\n"
      ],
      "metadata": {
        "id": "fpLtUXP89JYP"
      },
      "execution_count": 22,
      "outputs": []
    },
    {
      "cell_type": "code",
      "source": [
        "Similarity_Score\n"
      ],
      "metadata": {
        "colab": {
          "base_uri": "https://localhost:8080/"
        },
        "id": "4lFMujos9LWz",
        "outputId": "52abcd04-a96f-4f83-e0c3-4cd2d930fdac"
      },
      "execution_count": 23,
      "outputs": [
        {
          "output_type": "execute_result",
          "data": {
            "text/plain": [
              "array([[1.        , 0.01351235, 0.03570468, ..., 0.        , 0.        ,\n",
              "        0.        ],\n",
              "       [0.01351235, 1.        , 0.00806674, ..., 0.        , 0.        ,\n",
              "        0.        ],\n",
              "       [0.03570468, 0.00806674, 1.        , ..., 0.        , 0.08014876,\n",
              "        0.        ],\n",
              "       ...,\n",
              "       [0.        , 0.        , 0.        , ..., 1.        , 0.        ,\n",
              "        0.        ],\n",
              "       [0.        , 0.        , 0.08014876, ..., 0.        , 1.        ,\n",
              "        0.        ],\n",
              "       [0.        , 0.        , 0.        , ..., 0.        , 0.        ,\n",
              "        1.        ]])"
            ]
          },
          "metadata": {},
          "execution_count": 23
        }
      ]
    },
    {
      "cell_type": "code",
      "source": [
        "Similarity_Score.shape\n"
      ],
      "metadata": {
        "colab": {
          "base_uri": "https://localhost:8080/"
        },
        "id": "RhNGC8-I9Oa2",
        "outputId": "1507b3cd-b9d6-4c57-fde7-9a15439948a4"
      },
      "execution_count": 24,
      "outputs": [
        {
          "output_type": "execute_result",
          "data": {
            "text/plain": [
              "(4760, 4760)"
            ]
          },
          "metadata": {},
          "execution_count": 24
        }
      ]
    },
    {
      "cell_type": "markdown",
      "source": [
        "Get Movie Name as Input from User and Validate for Closest Spelling\n"
      ],
      "metadata": {
        "id": "vsoSKY1G9QXk"
      }
    },
    {
      "cell_type": "code",
      "source": [
        "Favourite_Movie_Name=input(\"Enter your favourite movie name : \")\n"
      ],
      "metadata": {
        "colab": {
          "base_uri": "https://localhost:8080/"
        },
        "id": "Hcz9Q0LU9UhC",
        "outputId": "78ff7192-1dd7-4da7-cadd-08969ec907df"
      },
      "execution_count": 25,
      "outputs": [
        {
          "name": "stdout",
          "output_type": "stream",
          "text": [
            "Enter your favourite movie name : Finding nemo\n"
          ]
        }
      ]
    },
    {
      "cell_type": "code",
      "source": [
        "All_Movies_Title_List=df['Movie_Title'].tolist()\n"
      ],
      "metadata": {
        "id": "5cBXmM4E9t5V"
      },
      "execution_count": 26,
      "outputs": []
    },
    {
      "cell_type": "code",
      "source": [
        "import difflib\n"
      ],
      "metadata": {
        "id": "irJ10WOq9zWl"
      },
      "execution_count": 27,
      "outputs": []
    },
    {
      "cell_type": "code",
      "source": [
        "Movie_Recommendation=difflib.get_close_matches(Favourite_Movie_Name,All_Movies_Title_List)\n",
        "print(Movie_Recommendation)\n"
      ],
      "metadata": {
        "colab": {
          "base_uri": "https://localhost:8080/"
        },
        "id": "pOCx7zkV92Jq",
        "outputId": "ec67f98f-2310-45d8-e510-0e2d0de787b1"
      },
      "execution_count": 28,
      "outputs": [
        {
          "output_type": "stream",
          "name": "stdout",
          "text": [
            "['Finding Nemo', 'Finding Neverland', 'Finding Forrester']\n"
          ]
        }
      ]
    },
    {
      "cell_type": "code",
      "source": [
        "Close_Match=Movie_Recommendation[0]\n",
        "print(Close_Match)\n"
      ],
      "metadata": {
        "colab": {
          "base_uri": "https://localhost:8080/"
        },
        "id": "uUJKSbPy9-lm",
        "outputId": "cee77033-f14c-4ca8-ec05-e9445a0b7a77"
      },
      "execution_count": 29,
      "outputs": [
        {
          "output_type": "stream",
          "name": "stdout",
          "text": [
            "Finding Nemo\n"
          ]
        }
      ]
    },
    {
      "cell_type": "code",
      "source": [
        "Index_of_Close_Match_Movie=df[df.Movie_Title==Close_Match]['Movie_ID'].values[0]\n",
        "print(Index_of_Close_Match_Movie)\n"
      ],
      "metadata": {
        "colab": {
          "base_uri": "https://localhost:8080/"
        },
        "id": "ITpAEIHe-C9u",
        "outputId": "28c02689-1598-4d85-c6e4-8cfa698264f3"
      },
      "execution_count": 30,
      "outputs": [
        {
          "output_type": "stream",
          "name": "stdout",
          "text": [
            "3\n"
          ]
        }
      ]
    },
    {
      "cell_type": "code",
      "source": [
        "Recommendation_Score=list(enumerate(Similarity_Score[Index_of_Close_Match_Movie]))\n"
      ],
      "metadata": {
        "id": "-cE3PtKI-JI7"
      },
      "execution_count": 31,
      "outputs": []
    },
    {
      "cell_type": "code",
      "source": [
        "len(Recommendation_Score)\n"
      ],
      "metadata": {
        "colab": {
          "base_uri": "https://localhost:8080/"
        },
        "id": "6nKbwXu6-Lbb",
        "outputId": "5ee819fe-7c5c-4a35-c6c3-4aac4882b9b9"
      },
      "execution_count": 32,
      "outputs": [
        {
          "output_type": "execute_result",
          "data": {
            "text/plain": [
              "4760"
            ]
          },
          "metadata": {},
          "execution_count": 32
        }
      ]
    },
    {
      "cell_type": "markdown",
      "source": [
        "Get All Movies Sort Based on Recommendation Score wrt Favourite Movie\n"
      ],
      "metadata": {
        "id": "hmBBhijs-PAu"
      }
    },
    {
      "cell_type": "code",
      "source": [
        "Sorted_Similar_Movies=sorted(Recommendation_Score,key=lambda x:x[1],reverse =True)\n"
      ],
      "metadata": {
        "id": "lJ4wDcfN-QgM"
      },
      "execution_count": 33,
      "outputs": []
    },
    {
      "cell_type": "code",
      "source": [
        "print(\"Top 30 Movies Suggested by You : \\n\")\n",
        "i=1\n",
        "for movie in Sorted_Similar_Movies:\n",
        "    index=movie[0]\n",
        "    title_from_index=df[df.index==index]['Movie_Title'].values[0]\n",
        "    if(i<31):\n",
        "        print(i,'.',title_from_index)\n",
        "        i+=1"
      ],
      "metadata": {
        "colab": {
          "base_uri": "https://localhost:8080/"
        },
        "id": "nwzBEB5T-Tl6",
        "outputId": "501956dd-b60c-488d-d4c0-c13c04b1989f"
      },
      "execution_count": 34,
      "outputs": [
        {
          "output_type": "stream",
          "name": "stdout",
          "text": [
            "Top 30 Movies Suggested by You : \n",
            "\n",
            "1 . Forrest Gump\n",
            "2 . The Green Mile\n",
            "3 . A Home at the End of the World\n",
            "4 . The Deer Hunter\n",
            "5 . Rain Man\n",
            "6 . Cast Away\n",
            "7 . The Big Bounce\n",
            "8 . Letters from Iwo Jima\n",
            "9 . Silver Linings Playbook\n",
            "10 . Say It Isn't So\n",
            "11 . What's Eating Gilbert Grape\n",
            "12 . Apollo 13\n",
            "13 . Larry Crowne\n",
            "14 . Contact\n",
            "15 . Apocalypse Now\n",
            "16 . A Christmas Carol\n",
            "17 . You've Got Mail\n",
            "18 . The Purge: Election Year\n",
            "19 . Impostor\n",
            "20 . Robin and Marian\n",
            "21 . Dangerous Liaisons\n",
            "22 . Saving Private Ryan\n",
            "23 . Days of Heaven\n",
            "24 . Memoirs of an Invisible Man\n",
            "25 . Gigli\n",
            "26 . The Musketeer\n",
            "27 . Last Orders\n",
            "28 . Moneyball\n",
            "29 . Dancin' It's On\n",
            "30 . Snake Eyes\n"
          ]
        }
      ]
    },
    {
      "cell_type": "markdown",
      "source": [
        "Top 10 Movie Recommendation System\n"
      ],
      "metadata": {
        "id": "l9r1J53X-gxe"
      }
    },
    {
      "cell_type": "code",
      "source": [
        "Favourite_Movie_Name=input(\"Enter your favourite movie name : \")\n",
        "All_Movies_Title_List=df['Movie_Title'].tolist()\n",
        "Movie_Recommendation=difflib.get_close_matches(Favourite_Movie_Name,All_Movies_Title_List)\n",
        "Close_Match=Movie_Recommendation[0]\n",
        "Index_of_Close_Match_Movie=df[df.Movie_Title==Close_Match]['Movie_ID'].values[0]\n",
        "Recommendation_Score=list(enumerate(Similarity_Score[Index_of_Close_Match_Movie]))\n",
        "Sorted_Similar_Movies=sorted(Recommendation_Score,key=lambda x:x[1],reverse =True)\n",
        "\n",
        "print(\"Top 10 Movies Suggested by You : \\n\")\n",
        "i=1\n",
        "for movie in Sorted_Similar_Movies:\n",
        "    index=movie[0]\n",
        "    title_from_index=df[df.index==index]['Movie_Title'].values[0]\n",
        "    if(i<31):\n",
        "        print(i,'.',title_from_index)\n",
        "        i+=1"
      ],
      "metadata": {
        "colab": {
          "base_uri": "https://localhost:8080/"
        },
        "id": "eZJBsmZq-iyD",
        "outputId": "19b959c4-92e6-43b4-fdeb-ed05fc2effcc"
      },
      "execution_count": 35,
      "outputs": [
        {
          "output_type": "stream",
          "name": "stdout",
          "text": [
            "Enter your favourite movie name : Four Stars\n",
            "Top 10 Movies Suggested by You : \n",
            "\n",
            "1 . Howards End\n",
            "2 . Our Idiot Brother\n",
            "3 . The White Countess\n",
            "4 . Atonement\n",
            "5 . The Remains of the Day\n",
            "6 . Ramona and Beezus\n",
            "7 . Happiness\n",
            "8 . A Room with a View\n",
            "9 . The Conjuring\n",
            "10 . The Immigrant\n",
            "11 . Marvin's Room\n",
            "12 . Must Love Dogs\n",
            "13 . Zombieland\n",
            "14 . 27 Dresses\n",
            "15 . Your Sister's Sister\n",
            "16 . Running with Scissors\n",
            "17 . Alice Through the Looking Glass\n",
            "18 . The Other Boleyn Girl\n",
            "19 . The Wild Thornberrys Movie\n",
            "20 . The Heart of Me\n",
            "21 . My Sister's Keeper\n",
            "22 . Sunshine Cleaning\n",
            "23 . Paranormal Activity 3\n",
            "24 . American Wedding\n",
            "25 . Welcome to the Dollhouse\n",
            "26 . To Kill a Mockingbird\n",
            "27 . A Streetcar Named Desire\n",
            "28 . Blue Jasmine\n",
            "29 . Alice in Wonderland\n",
            "30 . Hanging Up\n"
          ]
        }
      ]
    }
  ]
}